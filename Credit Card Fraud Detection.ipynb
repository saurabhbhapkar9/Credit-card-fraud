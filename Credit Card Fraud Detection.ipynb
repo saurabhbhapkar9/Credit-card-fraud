{
 "cells": [
  {
   "cell_type": "code",
   "execution_count": null,
   "id": "40d3172b",
   "metadata": {},
   "outputs": [],
   "source": [
    "#A credit card is a small thin plastic or fiber card that incorporates information about the person such as a picture or signature and the person named on it to charge purchases and services to his linked account charges which will be debited regularly.  \n",
    "#Nowadays, card data is read by ATMs, swiping machines, store readers, banks, and online transactions. \n",
    "#Each card has a unique card number which is very important, its security mainly relies on the physical security of the card and also the privacy of the credit card number. \n",
    "#There is a rapid growth in credit card transactions which has led to substantial growth in scam cases. \n",
    "#Credit card fraud is expanding heavily because fraud financial loss is increasing drastically. \n",
    "#Multiple data mining and statistical techniques are used to catch fraud. \n",
    "#Therefore the detection of fraud using efficient and secured methods are very important.\n"
   ]
  },
  {
   "cell_type": "code",
   "execution_count": 6,
   "id": "bc6165db",
   "metadata": {},
   "outputs": [],
   "source": [
    "#Importing libraries\n",
    "\n",
    "import pandas as pd\n",
    "import matplotlib.pyplot as plt\n",
    "import numpy as np\n",
    "from collections import Counter\n",
    "import itertools"
   ]
  },
  {
   "cell_type": "code",
   "execution_count": 7,
   "id": "57a2dc82",
   "metadata": {},
   "outputs": [
    {
     "data": {
      "text/html": [
       "<div>\n",
       "<style scoped>\n",
       "    .dataframe tbody tr th:only-of-type {\n",
       "        vertical-align: middle;\n",
       "    }\n",
       "\n",
       "    .dataframe tbody tr th {\n",
       "        vertical-align: top;\n",
       "    }\n",
       "\n",
       "    .dataframe thead th {\n",
       "        text-align: right;\n",
       "    }\n",
       "</style>\n",
       "<table border=\"1\" class=\"dataframe\">\n",
       "  <thead>\n",
       "    <tr style=\"text-align: right;\">\n",
       "      <th></th>\n",
       "      <th>Time</th>\n",
       "      <th>V1</th>\n",
       "      <th>V2</th>\n",
       "      <th>V3</th>\n",
       "      <th>V4</th>\n",
       "      <th>V5</th>\n",
       "      <th>V6</th>\n",
       "      <th>V7</th>\n",
       "      <th>V8</th>\n",
       "      <th>V9</th>\n",
       "      <th>...</th>\n",
       "      <th>V21</th>\n",
       "      <th>V22</th>\n",
       "      <th>V23</th>\n",
       "      <th>V24</th>\n",
       "      <th>V25</th>\n",
       "      <th>V26</th>\n",
       "      <th>V27</th>\n",
       "      <th>V28</th>\n",
       "      <th>Amount</th>\n",
       "      <th>Class</th>\n",
       "    </tr>\n",
       "  </thead>\n",
       "  <tbody>\n",
       "    <tr>\n",
       "      <th>0</th>\n",
       "      <td>0.0</td>\n",
       "      <td>-1.359807</td>\n",
       "      <td>-0.072781</td>\n",
       "      <td>2.536347</td>\n",
       "      <td>1.378155</td>\n",
       "      <td>-0.338321</td>\n",
       "      <td>0.462388</td>\n",
       "      <td>0.239599</td>\n",
       "      <td>0.098698</td>\n",
       "      <td>0.363787</td>\n",
       "      <td>...</td>\n",
       "      <td>-0.018307</td>\n",
       "      <td>0.277838</td>\n",
       "      <td>-0.110474</td>\n",
       "      <td>0.066928</td>\n",
       "      <td>0.128539</td>\n",
       "      <td>-0.189115</td>\n",
       "      <td>0.133558</td>\n",
       "      <td>-0.021053</td>\n",
       "      <td>149.62</td>\n",
       "      <td>0</td>\n",
       "    </tr>\n",
       "    <tr>\n",
       "      <th>1</th>\n",
       "      <td>0.0</td>\n",
       "      <td>1.191857</td>\n",
       "      <td>0.266151</td>\n",
       "      <td>0.166480</td>\n",
       "      <td>0.448154</td>\n",
       "      <td>0.060018</td>\n",
       "      <td>-0.082361</td>\n",
       "      <td>-0.078803</td>\n",
       "      <td>0.085102</td>\n",
       "      <td>-0.255425</td>\n",
       "      <td>...</td>\n",
       "      <td>-0.225775</td>\n",
       "      <td>-0.638672</td>\n",
       "      <td>0.101288</td>\n",
       "      <td>-0.339846</td>\n",
       "      <td>0.167170</td>\n",
       "      <td>0.125895</td>\n",
       "      <td>-0.008983</td>\n",
       "      <td>0.014724</td>\n",
       "      <td>2.69</td>\n",
       "      <td>0</td>\n",
       "    </tr>\n",
       "    <tr>\n",
       "      <th>2</th>\n",
       "      <td>1.0</td>\n",
       "      <td>-1.358354</td>\n",
       "      <td>-1.340163</td>\n",
       "      <td>1.773209</td>\n",
       "      <td>0.379780</td>\n",
       "      <td>-0.503198</td>\n",
       "      <td>1.800499</td>\n",
       "      <td>0.791461</td>\n",
       "      <td>0.247676</td>\n",
       "      <td>-1.514654</td>\n",
       "      <td>...</td>\n",
       "      <td>0.247998</td>\n",
       "      <td>0.771679</td>\n",
       "      <td>0.909412</td>\n",
       "      <td>-0.689281</td>\n",
       "      <td>-0.327642</td>\n",
       "      <td>-0.139097</td>\n",
       "      <td>-0.055353</td>\n",
       "      <td>-0.059752</td>\n",
       "      <td>378.66</td>\n",
       "      <td>0</td>\n",
       "    </tr>\n",
       "    <tr>\n",
       "      <th>3</th>\n",
       "      <td>1.0</td>\n",
       "      <td>-0.966272</td>\n",
       "      <td>-0.185226</td>\n",
       "      <td>1.792993</td>\n",
       "      <td>-0.863291</td>\n",
       "      <td>-0.010309</td>\n",
       "      <td>1.247203</td>\n",
       "      <td>0.237609</td>\n",
       "      <td>0.377436</td>\n",
       "      <td>-1.387024</td>\n",
       "      <td>...</td>\n",
       "      <td>-0.108300</td>\n",
       "      <td>0.005274</td>\n",
       "      <td>-0.190321</td>\n",
       "      <td>-1.175575</td>\n",
       "      <td>0.647376</td>\n",
       "      <td>-0.221929</td>\n",
       "      <td>0.062723</td>\n",
       "      <td>0.061458</td>\n",
       "      <td>123.50</td>\n",
       "      <td>0</td>\n",
       "    </tr>\n",
       "    <tr>\n",
       "      <th>4</th>\n",
       "      <td>2.0</td>\n",
       "      <td>-1.158233</td>\n",
       "      <td>0.877737</td>\n",
       "      <td>1.548718</td>\n",
       "      <td>0.403034</td>\n",
       "      <td>-0.407193</td>\n",
       "      <td>0.095921</td>\n",
       "      <td>0.592941</td>\n",
       "      <td>-0.270533</td>\n",
       "      <td>0.817739</td>\n",
       "      <td>...</td>\n",
       "      <td>-0.009431</td>\n",
       "      <td>0.798278</td>\n",
       "      <td>-0.137458</td>\n",
       "      <td>0.141267</td>\n",
       "      <td>-0.206010</td>\n",
       "      <td>0.502292</td>\n",
       "      <td>0.219422</td>\n",
       "      <td>0.215153</td>\n",
       "      <td>69.99</td>\n",
       "      <td>0</td>\n",
       "    </tr>\n",
       "  </tbody>\n",
       "</table>\n",
       "<p>5 rows × 31 columns</p>\n",
       "</div>"
      ],
      "text/plain": [
       "   Time        V1        V2        V3        V4        V5        V6        V7  \\\n",
       "0   0.0 -1.359807 -0.072781  2.536347  1.378155 -0.338321  0.462388  0.239599   \n",
       "1   0.0  1.191857  0.266151  0.166480  0.448154  0.060018 -0.082361 -0.078803   \n",
       "2   1.0 -1.358354 -1.340163  1.773209  0.379780 -0.503198  1.800499  0.791461   \n",
       "3   1.0 -0.966272 -0.185226  1.792993 -0.863291 -0.010309  1.247203  0.237609   \n",
       "4   2.0 -1.158233  0.877737  1.548718  0.403034 -0.407193  0.095921  0.592941   \n",
       "\n",
       "         V8        V9  ...       V21       V22       V23       V24       V25  \\\n",
       "0  0.098698  0.363787  ... -0.018307  0.277838 -0.110474  0.066928  0.128539   \n",
       "1  0.085102 -0.255425  ... -0.225775 -0.638672  0.101288 -0.339846  0.167170   \n",
       "2  0.247676 -1.514654  ...  0.247998  0.771679  0.909412 -0.689281 -0.327642   \n",
       "3  0.377436 -1.387024  ... -0.108300  0.005274 -0.190321 -1.175575  0.647376   \n",
       "4 -0.270533  0.817739  ... -0.009431  0.798278 -0.137458  0.141267 -0.206010   \n",
       "\n",
       "        V26       V27       V28  Amount  Class  \n",
       "0 -0.189115  0.133558 -0.021053  149.62      0  \n",
       "1  0.125895 -0.008983  0.014724    2.69      0  \n",
       "2 -0.139097 -0.055353 -0.059752  378.66      0  \n",
       "3 -0.221929  0.062723  0.061458  123.50      0  \n",
       "4  0.502292  0.219422  0.215153   69.99      0  \n",
       "\n",
       "[5 rows x 31 columns]"
      ]
     },
     "execution_count": 7,
     "metadata": {},
     "output_type": "execute_result"
    }
   ],
   "source": [
    "# Load the csv file\n",
    "\n",
    "dataframe = pd.read_csv(r\"C:\\Users\\saura\\Documents\\INTELLIPAT\\Projects\\Credit card\\creditcard1.csv\")\n",
    "dataframe.head()"
   ]
  },
  {
   "cell_type": "code",
   "execution_count": 8,
   "id": "17abdd4e",
   "metadata": {},
   "outputs": [
    {
     "data": {
      "text/plain": [
       "0"
      ]
     },
     "execution_count": 8,
     "metadata": {},
     "output_type": "execute_result"
    }
   ],
   "source": [
    "dataframe.isnull().sum().sum() #No null values"
   ]
  },
  {
   "cell_type": "code",
   "execution_count": 9,
   "id": "4c03023e",
   "metadata": {},
   "outputs": [
    {
     "data": {
      "text/plain": [
       "count    40700.000000\n",
       "mean        88.563152\n",
       "std        237.173302\n",
       "min          0.000000\n",
       "25%          7.450000\n",
       "50%         23.895000\n",
       "75%         79.942500\n",
       "max       7879.420000\n",
       "Name: Amount, dtype: float64"
      ]
     },
     "execution_count": 9,
     "metadata": {},
     "output_type": "execute_result"
    }
   ],
   "source": [
    "dataframe[\"Amount\"].describe()"
   ]
  },
  {
   "cell_type": "code",
   "execution_count": 14,
   "id": "75107aba",
   "metadata": {},
   "outputs": [
    {
     "name": "stdout",
     "output_type": "stream",
     "text": [
      "Number of Genuine transactions:  40594\n",
      "Number of Fraud transactions:  106\n",
      "Percentage of Fraud transactions:  26.04 %\n"
     ]
    }
   ],
   "source": [
    "#Count of genuine and fraud transactions\n",
    "\n",
    "non_fraud = len(dataframe[dataframe.Class == 0])\n",
    "fraud = len(dataframe[dataframe.Class == 1])\n",
    "fraud_percent = (fraud / (fraud + non_fraud)) * 100\n",
    "print(\"Number of Genuine transactions: \", non_fraud)\n",
    "print(\"Number of Fraud transactions: \", fraud)\n",
    "print(\"Percentage of Fraud transactions: \",round(fraud_percent*100,2),'%')"
   ]
  },
  {
   "cell_type": "code",
   "execution_count": 30,
   "id": "32615b0a",
   "metadata": {},
   "outputs": [
    {
     "data": {
      "image/png": "[encoded data removed]",
      "text/plain": [
       "<Figure size 640x480 with 1 Axes>"
      ]
     },
     "metadata": {},
     "output_type": "display_data"
    }
   ],
   "source": [
    "#Visualising data\n",
    "\n",
    "labels = [\"Genuine\", \"Fraud\"]\n",
    "count_classes = dataframe.value_counts(dataframe['Class'], sort= True)\n",
    "plt.pie(x=count_classes, explode=[0,0.3],labels=labels)\n",
    "plt.title(\"Visualization of Labels\")\n",
    "plt.show()"
   ]
  },
  {
   "cell_type": "code",
   "execution_count": 31,
   "id": "8c0ccfb1",
   "metadata": {},
   "outputs": [],
   "source": [
    "#Standardising data and removing irrelevent columns\n",
    "\n",
    "from sklearn.preprocessing import StandardScaler\n",
    "scaler = StandardScaler()\n",
    "dataframe[\"NormalizedAmount\"] = scaler.fit_transform(dataframe[\"Amount\"].values.reshape(-1, 1))\n",
    "dataframe.drop([\"Amount\", \"Time\"], inplace= True, axis= 1)\n"
   ]
  },
  {
   "cell_type": "code",
   "execution_count": 32,
   "id": "1d1d91c0",
   "metadata": {},
   "outputs": [],
   "source": [
    "#splitting data into dependent and independent features\n",
    "\n",
    "Y = dataframe[\"Class\"]\n",
    "X = dataframe.drop([\"Class\"], axis= 1)"
   ]
  },
  {
   "cell_type": "code",
   "execution_count": 33,
   "id": "4e9670cf",
   "metadata": {},
   "outputs": [
    {
     "name": "stdout",
     "output_type": "stream",
     "text": [
      "Shape of train_X:  (28490, 29)\n",
      "Shape of test_X:  (12210, 29)\n"
     ]
    }
   ],
   "source": [
    "#Train-test split\n",
    "\n",
    "from sklearn.model_selection import train_test_split\n",
    "(train_X, test_X, train_Y, test_Y) = train_test_split(X, Y, test_size= 0.3, random_state= 42)\n",
    "print(\"Shape of train_X: \", train_X.shape)\n",
    "print(\"Shape of test_X: \", test_X.shape)\n"
   ]
  },
  {
   "cell_type": "code",
   "execution_count": 34,
   "id": "3e45db3e",
   "metadata": {},
   "outputs": [],
   "source": [
    "#Model building\n",
    "\n",
    "from sklearn.ensemble import RandomForestClassifier\n",
    "from sklearn.tree import DecisionTreeClassifier\n",
    "#Decision Tree\n",
    "DT = DecisionTreeClassifier()\n",
    "# Random Forest\n",
    "RF = RandomForestClassifier(n_estimators= 100)"
   ]
  },
  {
   "cell_type": "code",
   "execution_count": 36,
   "id": "c595b8ef",
   "metadata": {},
   "outputs": [
    {
     "name": "stdout",
     "output_type": "stream",
     "text": [
      "Random Forest Score:  99.93\n",
      "Decision Tree Score:  99.89\n"
     ]
    }
   ],
   "source": [
    "#Training and predictions\n",
    "\n",
    "DT.fit(train_X, train_Y)\n",
    "predictions_dt = DT.predict(test_X)\n",
    "DT_score = DT.score(test_X, test_Y) * 100\n",
    "RF.fit(train_X, train_Y)\n",
    "predictions_rf = RF.predict(test_X)\n",
    "RF_score = RF.score(test_X, test_Y) * 100\n",
    "print(\"Random Forest Score: \", round(RF_score,2))\n",
    "print(\"Decision Tree Score: \", round(DT_score,2))"
   ]
  },
  {
   "cell_type": "code",
   "execution_count": 37,
   "id": "0f016045",
   "metadata": {},
   "outputs": [],
   "source": [
    "#Metrics\n",
    "\n",
    "from sklearn.metrics import *\n",
    "def metrics(actuals, predictions):\n",
    "    print(\"Accuracy: {:.5f}\".format(accuracy_score(actuals, predictions)))\n",
    "    print(\"Precision: {:.5f}\".format(precision_score(actuals, predictions)))\n",
    "    print(\"Recall: {:.5f}\".format(recall_score(actuals, predictions)))\n",
    "    print(\"F1-score: {:.5f}\".format(f1_score(actuals, predictions)))"
   ]
  },
  {
   "cell_type": "code",
   "execution_count": 38,
   "id": "e24f31a2",
   "metadata": {},
   "outputs": [
    {
     "name": "stdout",
     "output_type": "stream",
     "text": [
      "Confusion Matrix - Decision Tree\n",
      "[[12171     4]\n",
      " [    9    26]]\n"
     ]
    }
   ],
   "source": [
    "confusion_matrix_dt = confusion_matrix(test_Y, predictions_dt.round())\n",
    "print(\"Confusion Matrix - Decision Tree\")\n",
    "print(confusion_matrix_dt)\n"
   ]
  },
  {
   "cell_type": "code",
   "execution_count": 40,
   "id": "852c0eb7",
   "metadata": {},
   "outputs": [
    {
     "name": "stdout",
     "output_type": "stream",
     "text": [
      "Metrics of decision tree :\n",
      "Accuracy: 0.99894\n",
      "Precision: 0.86667\n",
      "Recall: 0.74286\n",
      "F1-score: 0.80000\n"
     ]
    }
   ],
   "source": [
    "print('Metrics of decision tree :')\n",
    "metrics(test_Y, predictions_dt)"
   ]
  },
  {
   "cell_type": "code",
   "execution_count": 42,
   "id": "110fabb5",
   "metadata": {},
   "outputs": [
    {
     "name": "stdout",
     "output_type": "stream",
     "text": [
      "Confusion Matrix - Random Forest \n",
      "[[12173     2]\n",
      " [    6    29]]\n"
     ]
    }
   ],
   "source": [
    "confusion_matrix_rf = confusion_matrix(test_Y, predictions_rf.round())\n",
    "print(\"Confusion Matrix - Random Forest \")\n",
    "print(confusion_matrix_rf)\n"
   ]
  },
  {
   "cell_type": "code",
   "execution_count": 41,
   "id": "f15a84eb",
   "metadata": {},
   "outputs": [
    {
     "name": "stdout",
     "output_type": "stream",
     "text": [
      "Metrics of random forest :\n",
      "Accuracy: 0.99934\n",
      "Precision: 0.93548\n",
      "Recall: 0.82857\n",
      "F1-score: 0.87879\n"
     ]
    }
   ],
   "source": [
    "print('Metrics of random forest :')\n",
    "metrics(test_Y, predictions_rf)"
   ]
  },
  {
   "attachments": {},
   "cell_type": "markdown",
   "id": "3f0bc232",
   "metadata": {},
   "source": [
    "Random forest gives highest accuracy of 99.93%."
   ]
  }
 ],
 "metadata": {
  "kernelspec": {
   "display_name": "Python 3",
   "language": "python",
   "name": "python3"
  },
  "language_info": {
   "codemirror_mode": {
    "name": "ipython",
    "version": 3
   },
   "file_extension": ".py",
   "mimetype": "text/x-python",
   "name": "python",
   "nbconvert_exporter": "python",
   "pygments_lexer": "ipython3",
   "version": "3.9.16"
  }
 },
 "nbformat": 4,
 "nbformat_minor": 5
}
